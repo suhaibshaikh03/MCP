{
  "nbformat": 4,
  "nbformat_minor": 0,
  "metadata": {
    "colab": {
      "provenance": []
    },
    "kernelspec": {
      "name": "python3",
      "display_name": "Python 3"
    },
    "language_info": {
      "name": "python"
    }
  },
  "cells": [
    {
      "cell_type": "code",
      "execution_count": 4,
      "metadata": {
        "id": "z68cVPuCw3s8",
        "colab": {
          "base_uri": "https://localhost:8080/"
        },
        "outputId": "67f09cf2-9397-4b8f-ff6f-73e3cc17f3c7"
      },
      "outputs": [
        {
          "output_type": "stream",
          "name": "stderr",
          "text": [
            "/usr/lib/python3.11/enum.py:714: RuntimeWarning: coroutine 'main' was never awaited\n",
            "  return cls.__new__(cls, value)\n",
            "RuntimeWarning: Enable tracemalloc to get the object allocation traceback\n"
          ]
        }
      ],
      "source": [
        "from contextlib import asynccontextmanager\n",
        "import asyncio"
      ]
    },
    {
      "cell_type": "code",
      "source": [
        "import nest_asyncio\n",
        "nest_asyncio.apply()"
      ],
      "metadata": {
        "id": "YDDGDgb14UW_"
      },
      "execution_count": 3,
      "outputs": []
    },
    {
      "cell_type": "code",
      "source": [
        "@asynccontextmanager\n",
        "async def make_connection(name):\n",
        "    print(f\"Connecting... {name}\")\n",
        "    yield name\n",
        "    print(f\"Connected! {name}\")\n",
        "\n",
        "async def main():\n",
        "    async with make_connection(\"A\") as a:\n",
        "        print(f\"Using connection: {a}\")\n",
        "\n",
        "asyncio.run(main())"
      ],
      "metadata": {
        "colab": {
          "base_uri": "https://localhost:8080/"
        },
        "id": "spUgdlPOxROZ",
        "outputId": "af008812-a5c8-446e-e9d2-c04ab331c32a"
      },
      "execution_count": 5,
      "outputs": [
        {
          "output_type": "stream",
          "name": "stdout",
          "text": [
            "Connecting... A\n",
            "Using connection: A\n",
            "Connected! A\n"
          ]
        }
      ]
    },
    {
      "cell_type": "code",
      "source": [
        "import asyncio\n",
        "from contextlib import AsyncExitStack\n",
        "\n",
        "async def get_connection(name):\n",
        "    class Ctx():\n",
        "        async def __aenter__(self):\n",
        "            print(f\"ENTER... {name}\")\n",
        "            return name\n",
        "        async def __aexit__(self, exc_type, exc, tb):\n",
        "            print(f\"EXIT! {name}\")\n",
        "    return Ctx()\n",
        "\n",
        "async def main():\n",
        "    async with await get_connection(\"A\") as a:\n",
        "        async with await get_connection(\"B\") as b:\n",
        "            print(f\"Using connections: {a} and {b}\")\n",
        "\n",
        "\n",
        "\n",
        "asyncio.run(main())"
      ],
      "metadata": {
        "colab": {
          "base_uri": "https://localhost:8080/"
        },
        "id": "uXfbs17p4VFN",
        "outputId": "c84d453d-8bb1-4674-b413-5bacc34b6f88"
      },
      "execution_count": 6,
      "outputs": [
        {
          "output_type": "stream",
          "name": "stdout",
          "text": [
            "ENTER... A\n",
            "ENTER... B\n",
            "Using connections: A and B\n",
            "EXIT! B\n",
            "EXIT! A\n"
          ]
        }
      ]
    },
    {
      "cell_type": "code",
      "source": [
        "async def main():\n",
        "  async with AsyncExitStack() as stack:\n",
        "      a = await stack.enter_async_context(await get_connection(\"A\"))\n",
        "      b = await stack.enter_async_context(await get_connection(\"B\"))\n",
        "      print(f\"Using: {a} and {b}\")\n",
        "  # On exit: first b.__aexit__, then a.__aexit__\n",
        "\n",
        "asyncio.run(main())\n",
        "\n",
        "\n"
      ],
      "metadata": {
        "colab": {
          "base_uri": "https://localhost:8080/"
        },
        "id": "4d8cWH2aFqlZ",
        "outputId": "8c92195b-04c0-44f8-ecbc-5006d33a03d3"
      },
      "execution_count": null,
      "outputs": [
        {
          "output_type": "stream",
          "name": "stdout",
          "text": [
            "ENTER... A\n",
            "ENTER... B\n",
            "Using: A and B\n",
            "EXIT! B\n",
            "EXIT! A\n"
          ]
        }
      ]
    },
    {
      "cell_type": "code",
      "source": [
        "import asyncio\n",
        "from contextlib import AsyncExitStack\n",
        "\n",
        "async def get_connection(name):\n",
        "    class Ctx():\n",
        "        async def __aenter__(self):\n",
        "            print(f\"ENTER... {name}\")\n",
        "            return name\n",
        "        async def __aexit__(self, exc_type, exc, tb):\n",
        "            print(f\"EXIT! {name}\")\n",
        "    return Ctx()\n",
        "\n",
        "# async def main():\n",
        "#     async with await get_connection(\"A\") as a:\n",
        "#         async with await get_connection(\"B\") as b:\n",
        "#             print(f\"Using connections: {a} and {b}\")\n",
        "\n",
        "async def main():\n",
        "    async with AsyncExitStack() as stack:\n",
        "        a = await stack.enter_async_context(await get_connection(\"A\"))\n",
        "        if a == \"A\":\n",
        "            b = await stack.enter_async_context(await get_connection(\"B\"))\n",
        "            print(f\"Using connections: {a} and {b}\")\n",
        "\n",
        "        async def customCleanup():\n",
        "            print(\"Custom cleanup logic here\")\n",
        "\n",
        "        stack.push_async_callback(customCleanup)\n",
        "        print(f\"Doing work with {a} and maybe {locals().get('b')}\")\n",
        "        await asyncio.sleep(1)\n",
        "\n",
        "asyncio.run(main())"
      ],
      "metadata": {
        "colab": {
          "base_uri": "https://localhost:8080/"
        },
        "id": "y5mja89thsPz",
        "outputId": "f848eee3-205e-4318-bc2e-25d53fbc6320"
      },
      "execution_count": 7,
      "outputs": [
        {
          "output_type": "stream",
          "name": "stdout",
          "text": [
            "ENTER... A\n",
            "ENTER... B\n",
            "Using connections: A and B\n",
            "Doing work with A and maybe B\n",
            "Custom cleanup logic here\n",
            "EXIT! B\n",
            "EXIT! A\n"
          ]
        }
      ]
    }
  ]
}